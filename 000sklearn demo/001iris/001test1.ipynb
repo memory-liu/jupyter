{
 "cells": [
  {
   "cell_type": "code",
   "execution_count": 4,
   "metadata": {},
   "outputs": [
    {
     "name": "stdout",
     "output_type": "stream",
     "text": [
      "[[  0.   0.   5.  13.   9.   1.   0.   0.   0.   0.  13.  15.  10.  15.\n",
      "    5.   0.   0.   3.  15.   2.   0.  11.   8.   0.   0.   4.  12.   0.\n",
      "    0.   8.   8.   0.   0.   5.   8.   0.   0.   9.   8.   0.   0.   4.\n",
      "   11.   0.   1.  12.   7.   0.   0.   2.  14.   5.  10.  12.   0.   0.\n",
      "    0.   0.   6.  13.  10.   0.   0.   0.]\n",
      " [  0.   0.   0.  12.  13.   5.   0.   0.   0.   0.   0.  11.  16.   9.\n",
      "    0.   0.   0.   0.   3.  15.  16.   6.   0.   0.   0.   7.  15.  16.\n",
      "   16.   2.   0.   0.   0.   0.   1.  16.  16.   3.   0.   0.   0.   0.\n",
      "    1.  16.  16.   6.   0.   0.   0.   0.   1.  16.  16.   6.   0.   0.\n",
      "    0.   0.   0.  11.  16.  10.   0.   0.]]\n",
      "[[[  0.   0.   5.  13.   9.   1.   0.   0.]\n",
      "  [  0.   0.  13.  15.  10.  15.   5.   0.]\n",
      "  [  0.   3.  15.   2.   0.  11.   8.   0.]\n",
      "  [  0.   4.  12.   0.   0.   8.   8.   0.]\n",
      "  [  0.   5.   8.   0.   0.   9.   8.   0.]\n",
      "  [  0.   4.  11.   0.   1.  12.   7.   0.]\n",
      "  [  0.   2.  14.   5.  10.  12.   0.   0.]\n",
      "  [  0.   0.   6.  13.  10.   0.   0.   0.]]]\n",
      "[0 1 2]\n",
      "[0 1 2]\n"
     ]
    }
   ],
   "source": [
    "#1.获取数据\n",
    "from sklearn import datasets\n",
    "import numpy as np\n",
    "digits = datasets.load_digits()\n",
    "digits_data = digits['data']\n",
    "digits_images = digits['images']\n",
    "digits_target = digits['target']\n",
    "digits_target_names = digits['target_names']\n",
    "print(digits_data[0:2]);\n",
    "print(digits_images[0:1]);\n",
    "print(digits_target[0:3]);\n",
    "print(digits_target_names[0:3]);\n"
   ]
  },
  {
   "cell_type": "code",
   "execution_count": 6,
   "metadata": {},
   "outputs": [
    {
     "name": "stdout",
     "output_type": "stream",
     "text": [
      "[[  0.   0.   0.   9.  15.   2.   0.   0.   0.   0.   5.  16.  11.   1.\n",
      "    0.   0.   0.   0.  13.  15.   1.   0.   0.   0.   0.   2.  16.  11.\n",
      "    0.   0.   0.   0.   0.   2.  16.  11.   4.   4.   0.   0.   0.   2.\n",
      "   15.  16.  16.  14.  10.   1.   0.   0.   9.  16.   7.   3.  15.   6.\n",
      "    0.   0.   0.   7.  15.  16.  16.   6.]\n",
      " [  0.   3.  12.  12.  14.   4.   0.   0.   0.   1.  13.   4.   4.   0.\n",
      "    0.   0.   0.   4.  14.   4.   3.   0.   0.   0.   0.   5.  13.  12.\n",
      "   14.  10.   0.   0.   0.   0.   0.   0.   0.  11.   6.   0.   0.   0.\n",
      "    0.   0.   0.   4.   8.   0.   0.   0.   6.   2.   0.   8.   8.   0.\n",
      "    0.   2.  13.  16.  16.  16.   2.   0.]]\n",
      "[[  0.   0.  11.  16.  15.   3.   0.   0.   0.   5.  16.  12.  11.  13.\n",
      "    0.   0.   0.   3.  13.   1.   5.  15.   0.   0.   0.   0.   0.   0.\n",
      "   12.  11.   0.   0.   0.   0.   0.   1.  16.   7.   0.   0.   0.   0.\n",
      "    0.  10.  15.   0.   0.   0.   0.   0.  12.  16.  16.  11.   1.   0.\n",
      "    0.   0.  13.  13.   8.  13.  16.   8.]\n",
      " [  0.   1.  15.  14.   2.   0.   0.   0.   0.   6.  14.   0.   0.   3.\n",
      "    2.   0.   0.   2.  16.   3.   2.  13.   3.   0.   0.   0.  11.  14.\n",
      "   15.   9.   0.   0.   0.   0.   7.  16.  11.   0.   0.   0.   0.   0.\n",
      "   15.  13.  14.   0.   0.   0.   0.   2.  15.   4.  16.   3.   0.   0.\n",
      "    0.   1.  15.  16.  12.   1.   0.   0.]]\n",
      "[6 5]\n",
      "[2 8]\n"
     ]
    }
   ],
   "source": [
    "#2.划分数据集\n",
    "from sklearn.model_selection import train_test_split\n",
    "from sklearn import metrics\n",
    "x_train,x_test,y_train,y_test = train_test_split(digits_data,digits_target,test_size=0.2,random_state=0)\n",
    "print(x_train[0:2])\n",
    "print(x_test[0:2])\n",
    "print(y_train[0:2])\n",
    "print(y_test[0:2])"
   ]
  },
  {
   "cell_type": "code",
   "execution_count": 9,
   "metadata": {},
   "outputs": [
    {
     "name": "stdout",
     "output_type": "stream",
     "text": [
      "[2 8 2 6 6]\n"
     ]
    }
   ],
   "source": [
    "#3.训练并预测\n",
    "from sklearn import neighbors\n",
    "knn = neighbors.KNeighborsClassifier(n_neighbors = 4)\n",
    "knn.fit(x_train,y_train)\n",
    "y_test_pred = knn.predict(x_test)\n",
    "print(y_test_pred[0:5])"
   ]
  },
  {
   "cell_type": "code",
   "execution_count": 10,
   "metadata": {},
   "outputs": [
    {
     "name": "stdout",
     "output_type": "stream",
     "text": [
      "0.975\n"
     ]
    }
   ],
   "source": [
    "#4.评估\n",
    "print(metrics.accuracy_score(y_test,y_test_pred))"
   ]
  },
  {
   "cell_type": "code",
   "execution_count": null,
   "metadata": {
    "collapsed": true
   },
   "outputs": [],
   "source": []
  }
 ],
 "metadata": {
  "kernelspec": {
   "display_name": "Python 3",
   "language": "python",
   "name": "python3"
  },
  "language_info": {
   "codemirror_mode": {
    "name": "ipython",
    "version": 3
   },
   "file_extension": ".py",
   "mimetype": "text/x-python",
   "name": "python",
   "nbconvert_exporter": "python",
   "pygments_lexer": "ipython3",
   "version": "3.6.3"
  }
 },
 "nbformat": 4,
 "nbformat_minor": 2
}

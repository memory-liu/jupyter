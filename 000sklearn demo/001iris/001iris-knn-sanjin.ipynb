{
 "cells": [
  {
   "cell_type": "code",
   "execution_count": 4,
   "metadata": {},
   "outputs": [
    {
     "name": "stdout",
     "output_type": "stream",
     "text": [
      "[[ 5.1  3.5  1.4  0.2]\n",
      " [ 4.9  3.   1.4  0.2]\n",
      " [ 4.7  3.2  1.3  0.2]]\n",
      "[0 0 0]\n",
      "['setosa' 'versicolor' 'virginica']\n",
      "['sepal length (cm)', 'sepal width (cm)', 'petal length (cm)', 'petal width (cm)']\n",
      "<class 'sklearn.utils.Bunch'>\n",
      "<class 'numpy.ndarray'>\n",
      "<class 'numpy.ndarray'>\n"
     ]
    }
   ],
   "source": [
    "from sklearn import datasets;\n",
    "import numpy as np;\n",
    "\n",
    "#step1. 获取数据\n",
    "iris = datasets.load_iris();#<class 'sklearn.utils.Bunch'> Bunch是一个类似于字典的键值对对象\n",
    "iris_data = iris['data'];\n",
    "iris_target = iris['target'];\n",
    "iris_target_names = iris['target_names'];\n",
    "iris_feature_names = iris['feature_names'];\n",
    "\n",
    "print(iris_data[0:3]);\n",
    "print(iris_target[0:3]);\n",
    "print(iris_target_names);\n",
    "print(iris_feature_names);\n",
    "\n",
    "print(type(iris));\n",
    "print(type(iris_data));\n",
    "print(type(iris_target));"
   ]
  },
  {
   "cell_type": "code",
   "execution_count": 11,
   "metadata": {},
   "outputs": [
    {
     "name": "stdout",
     "output_type": "stream",
     "text": [
      "[[ 6.4  3.1  5.5  1.8]\n",
      " [ 5.4  3.   4.5  1.5]]\n",
      "[[ 5.8  2.8  5.1  2.4]\n",
      " [ 6.   2.2  4.   1. ]]\n",
      "[2 1]\n",
      "[2 1]\n"
     ]
    }
   ],
   "source": [
    "#step2.分割数据集\n",
    "from sklearn.model_selection import train_test_split;\n",
    "from sklearn import metrics;\n",
    "X_train,X_test,y_train,y_test = train_test_split(iris_data,iris_target,test_size=0.2,random_state=0);\n",
    "print(X_train[0:2]);\n",
    "print(X_test[0:2]);\n",
    "print(y_train[0:2]);\n",
    "print(y_test[0:2]);"
   ]
  },
  {
   "cell_type": "code",
   "execution_count": 31,
   "metadata": {},
   "outputs": [
    {
     "name": "stdout",
     "output_type": "stream",
     "text": [
      "[2 1 0]\n"
     ]
    }
   ],
   "source": [
    "#step3.选择对应的分类器进行训练\n",
    "from sklearn import neighbors;\n",
    "\n",
    "knn = neighbors.KNeighborsClassifier(n_neighbors=5);\n",
    "\n",
    "#训练，大部分的算法通过调用fit方法之后，会生成一个用于以后预测结果的函数\n",
    "knn.fit(X_train,y_train);\n",
    "\n",
    "#往分类器的predict(预测)方法中传入要预测的样本X特征，返回预测结果\n",
    "y_test_pred = knn.predict(X_test);\n",
    "print(y_test_pred[0:3]);"
   ]
  },
  {
   "cell_type": "code",
   "execution_count": 32,
   "metadata": {},
   "outputs": [
    {
     "name": "stdout",
     "output_type": "stream",
     "text": [
      "0.966666666667\n"
     ]
    }
   ],
   "source": [
    "#step4.算法的评估\n",
    "print(metrics.accuracy_score(y_test,y_test_pred));\n"
   ]
  },
  {
   "cell_type": "code",
   "execution_count": null,
   "metadata": {
    "collapsed": true
   },
   "outputs": [],
   "source": []
  }
 ],
 "metadata": {
  "kernelspec": {
   "display_name": "Python 3",
   "language": "python",
   "name": "python3"
  },
  "language_info": {
   "codemirror_mode": {
    "name": "ipython",
    "version": 3
   },
   "file_extension": ".py",
   "mimetype": "text/x-python",
   "name": "python",
   "nbconvert_exporter": "python",
   "pygments_lexer": "ipython3",
   "version": "3.6.3"
  }
 },
 "nbformat": 4,
 "nbformat_minor": 2
}
